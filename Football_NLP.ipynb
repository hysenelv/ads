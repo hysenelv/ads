{
 "cells": [
  {
   "cell_type": "code",
   "execution_count": 1,
   "id": "503db496",
   "metadata": {},
   "outputs": [],
   "source": [
    "import numpy as np\n",
    "from keras.models import Sequential\n",
    "from keras.layers import Dense, Embedding, LSTM\n",
    "from keras.preprocessing.text import Tokenizer\n",
    "from tensorflow.keras.preprocessing.sequence import pad_sequences #from keras.preprocessing.sequence import pad_sequences"
   ]
  },
  {
   "cell_type": "code",
   "execution_count": 23,
   "id": "83cfd926",
   "metadata": {},
   "outputs": [],
   "source": [
    "#Example dataset\n",
    "data = [\n",
    "  {\n",
    "    \"Heimteam\": \"Manchester United\",\n",
    "    \"Auswärtsteam\": \"Liverpool\",\n",
    "    \"Heimtore\": 2,\n",
    "    \"Auswärtstore\": 1\n",
    "  },\n",
    "  {\n",
    "    \"Heimteam\": \"Chelsea\",\n",
    "    \"Auswärtsteam\": \"Arsenal\",\n",
    "    \"Heimtore\": 3,\n",
    "    \"Auswärtstore\": 0\n",
    "  },\n",
    "  {\n",
    "    \"Heimteam\": \"Manchester City\",\n",
    "    \"Auswärtsteam\": \"Tottenham Hotspur\",\n",
    "    \"Heimtore\": 1,\n",
    "    \"Auswärtstore\": 1\n",
    "  },\n",
    "  {\n",
    "    \"Heimteam\": \"Leicester City\",\n",
    "    \"Auswärtsteam\": \"Everton\",\n",
    "    \"Heimtore\": 2,\n",
    "    \"Auswärtstore\": 2\n",
    "  },\n",
    "  {\n",
    "    \"Heimteam\": \"West Ham United\",\n",
    "    \"Auswärtsteam\": \"Southampton\",\n",
    "    \"Heimtore\": 0,\n",
    "    \"Auswärtstore\": 1\n",
    "  }\n",
    "]"
   ]
  },
  {
   "cell_type": "code",
   "execution_count": 24,
   "id": "0fe5af3e",
   "metadata": {},
   "outputs": [],
   "source": [
    "# Extract the texts and labels from the data set\n",
    "texts = []\n",
    "labels = []\n",
    "\n",
    "for game in data:\n",
    "    home_team = game[\"Heimteam\"]\n",
    "    away_team = game[\"Auswärtsteam\"]\n",
    "    home_goals = game[\"Heimtore\"]\n",
    "    away_goals = game[\"Auswärtstore\"]\n",
    "    \n",
    "    texts.append(f\"{home_team} vs. {away_team}\")\n",
    "    labels.append(1 if home_goals > away_goals else 0)"
   ]
  },
  {
   "cell_type": "code",
   "execution_count": 25,
   "id": "6b384b46",
   "metadata": {},
   "outputs": [
    {
     "name": "stdout",
     "output_type": "stream",
     "text": [
      "['Manchester United vs. Liverpool', 'Chelsea vs. Arsenal', 'Manchester City vs. Tottenham Hotspur', 'Leicester City vs. Everton', 'West Ham United vs. Southampton']\n"
     ]
    }
   ],
   "source": [
    "print(texts)"
   ]
  },
  {
   "cell_type": "code",
   "execution_count": 26,
   "id": "35b3eb13",
   "metadata": {},
   "outputs": [
    {
     "name": "stdout",
     "output_type": "stream",
     "text": [
      "[1, 1, 0, 0, 0]\n"
     ]
    }
   ],
   "source": [
    "print(labels)"
   ]
  },
  {
   "cell_type": "code",
   "execution_count": 27,
   "id": "cf51d0a9",
   "metadata": {},
   "outputs": [],
   "source": [
    "# Tokenisation and sequencing of the texts\n",
    "tokenizer = Tokenizer(num_words=1000)\n",
    "tokenizer.fit_on_texts(texts)\n",
    "sequences = tokenizer.texts_to_sequences(texts)"
   ]
  },
  {
   "cell_type": "code",
   "execution_count": 28,
   "id": "f55686e7",
   "metadata": {},
   "outputs": [],
   "source": [
    "# Padding of the sequences to obtain a uniform length format\n",
    "max_sequence_length = max([len(seq) for seq in sequences])\n",
    "padded_sequences = pad_sequences(sequences, maxlen=max_sequence_length)"
   ]
  },
  {
   "cell_type": "code",
   "execution_count": 29,
   "id": "e88b149f",
   "metadata": {},
   "outputs": [],
   "source": [
    "# Konvertiere die Eingabedaten in ein numpy.ndarray\n",
    "padded_sequences = np.array(padded_sequences)\n",
    "labels = np.array(labels)"
   ]
  },
  {
   "cell_type": "code",
   "execution_count": 30,
   "id": "c9b6e5cb",
   "metadata": {},
   "outputs": [],
   "source": [
    "# Creation of the neural network\n",
    "model = Sequential()\n",
    "model.add(Embedding(1000, 32, input_length=max_sequence_length))\n",
    "model.add(LSTM(64))\n",
    "model.add(Dense(1, activation='sigmoid'))"
   ]
  },
  {
   "cell_type": "code",
   "execution_count": 31,
   "id": "c21edf52",
   "metadata": {},
   "outputs": [
    {
     "name": "stdout",
     "output_type": "stream",
     "text": [
      "Epoch 1/10\n",
      "1/1 [==============================] - 5s 5s/step - loss: 0.6927 - accuracy: 0.4000\n",
      "Epoch 2/10\n",
      "1/1 [==============================] - 0s 16ms/step - loss: 0.6901 - accuracy: 1.0000\n",
      "Epoch 3/10\n",
      "1/1 [==============================] - 0s 19ms/step - loss: 0.6874 - accuracy: 0.8000\n",
      "Epoch 4/10\n",
      "1/1 [==============================] - 0s 20ms/step - loss: 0.6846 - accuracy: 0.8000\n",
      "Epoch 5/10\n",
      "1/1 [==============================] - 0s 22ms/step - loss: 0.6818 - accuracy: 0.6000\n",
      "Epoch 6/10\n",
      "1/1 [==============================] - 0s 20ms/step - loss: 0.6788 - accuracy: 0.6000\n",
      "Epoch 7/10\n",
      "1/1 [==============================] - 0s 24ms/step - loss: 0.6756 - accuracy: 0.6000\n",
      "Epoch 8/10\n",
      "1/1 [==============================] - 0s 24ms/step - loss: 0.6722 - accuracy: 0.6000\n",
      "Epoch 9/10\n",
      "1/1 [==============================] - 0s 32ms/step - loss: 0.6686 - accuracy: 0.6000\n",
      "Epoch 10/10\n",
      "1/1 [==============================] - 0s 27ms/step - loss: 0.6647 - accuracy: 0.6000\n"
     ]
    },
    {
     "data": {
      "text/plain": [
       "<keras.callbacks.History at 0x1bf5e8ce2c0>"
      ]
     },
     "execution_count": 31,
     "metadata": {},
     "output_type": "execute_result"
    }
   ],
   "source": [
    "# Compile and train the model\n",
    "model.compile(loss='binary_crossentropy', optimizer='adam', metrics=['accuracy'])\n",
    "model.fit(padded_sequences, labels, epochs=10)"
   ]
  },
  {
   "cell_type": "code",
   "execution_count": 32,
   "id": "e3c90e6c",
   "metadata": {},
   "outputs": [],
   "source": [
    "# Example text for prediction\n",
    "test_text = 'Chelsea vs. Manchester United'"
   ]
  },
  {
   "cell_type": "code",
   "execution_count": 33,
   "id": "3928a221",
   "metadata": {},
   "outputs": [],
   "source": [
    "# Tokenisation, sequencing and padding of the test text\n",
    "test_sequence = tokenizer.texts_to_sequences([test_text])\n",
    "padded_test_sequence = pad_sequences(test_sequence, maxlen=max_sequence_length)"
   ]
  },
  {
   "cell_type": "code",
   "execution_count": 34,
   "id": "f0ddcf46",
   "metadata": {},
   "outputs": [
    {
     "name": "stdout",
     "output_type": "stream",
     "text": [
      "1/1 [==============================] - 1s 783ms/step\n",
      "Für das Spiel \"Chelsea vs. Manchester United\" lautet die Vorhersage: Auswärtsteam gewinnt oder Unentschieden.\n"
     ]
    }
   ],
   "source": [
    "# Prediction of the result of the test match\n",
    "prediction = model.predict(padded_test_sequence)[0][0]\n",
    "result = 'Heimteam gewinnt' if prediction > 0.5 else 'Auswärtsteam gewinnt oder Unentschieden'\n",
    "\n",
    "print(f'Für das Spiel \"{test_text}\" lautet die Vorhersage: {result}.')"
   ]
  }
 ],
 "metadata": {
  "kernelspec": {
   "display_name": "Python 3 (ipykernel)",
   "language": "python",
   "name": "python3"
  },
  "language_info": {
   "codemirror_mode": {
    "name": "ipython",
    "version": 3
   },
   "file_extension": ".py",
   "mimetype": "text/x-python",
   "name": "python",
   "nbconvert_exporter": "python",
   "pygments_lexer": "ipython3",
   "version": "3.10.9"
  }
 },
 "nbformat": 4,
 "nbformat_minor": 5
}
